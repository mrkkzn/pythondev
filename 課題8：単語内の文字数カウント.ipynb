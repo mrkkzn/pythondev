{
 "cells": [
  {
   "cell_type": "code",
   "execution_count": 19,
   "id": "85b586d5",
   "metadata": {},
   "outputs": [
    {
     "name": "stdout",
     "output_type": "stream",
     "text": [
      "{'a': 1, 'b': 0, 'c': 1, 'd': 1, 'e': 1, 'f': 0, 'g': 1, 'h': 1, 'i': 0, 'j': 0, 'k': 0, 'l': 0, 'm': 0, 'n': 0, 'o': 2, 'p': 0, 'q': 0, 'r': 1, 's': 1, 't': 1, 'u': 0, 'v': 0, 'w': 0, 'x': 0, 'y': 0, 'z': 0}\n",
      "入力した英単語：['cat', 'dog', 'horse']\n",
      "aが1個ありました\n",
      "cが1個ありました\n",
      "dが1個ありました\n",
      "eが1個ありました\n",
      "gが1個ありました\n",
      "hが1個ありました\n",
      "oが2個ありました\n",
      "rが1個ありました\n",
      "sが1個ありました\n",
      "tが1個ありました\n"
     ]
    }
   ],
   "source": [
    "englishWordList = list()\n",
    "englishWordList = dict.fromkeys(list(\"abcdefghijklmnopqrstuvwxyz\"), 0)\n",
    "input_list = list()\n",
    "\n",
    "while (True):\n",
    "    input_word = input(\"英単語を入力してください：\")\n",
    "    if input_word == \"\":\n",
    "        for i in input_list:\n",
    "            for j in englishWordList:\n",
    "                count = i.count(j)\n",
    "                if count > 0:\n",
    "                    englishWordList[j] += count\n",
    "        print(englishWordList)\n",
    "        break\n",
    "    input_list.append(input_word)\n",
    "    \n",
    "\n",
    "input_list.sort()\n",
    "print(f\"入力した英単語：{input_list}\")\n",
    "\n",
    "for i in englishWordList:\n",
    "    if englishWordList[i] > 0:\n",
    "        print(f\"{i}が{englishWordList[i]}個ありました\")\n",
    "\n"
   ]
  }
 ],
 "metadata": {
  "kernelspec": {
   "display_name": ".venv",
   "language": "python",
   "name": "python3"
  },
  "language_info": {
   "codemirror_mode": {
    "name": "ipython",
    "version": 3
   },
   "file_extension": ".py",
   "mimetype": "text/x-python",
   "name": "python",
   "nbconvert_exporter": "python",
   "pygments_lexer": "ipython3",
   "version": "3.12.10"
  }
 },
 "nbformat": 4,
 "nbformat_minor": 5
}
