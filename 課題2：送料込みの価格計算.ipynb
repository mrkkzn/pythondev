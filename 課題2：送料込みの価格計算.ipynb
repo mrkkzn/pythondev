{
 "cells": [
  {
   "cell_type": "code",
   "execution_count": null,
   "id": "3d392f8f",
   "metadata": {},
   "outputs": [
    {
     "name": "stdout",
     "output_type": "stream",
     "text": [
      "送料は無料です\n",
      "送料込みの価格は2200円です。\n"
     ]
    }
   ],
   "source": [
    "price = int(input(\"税抜価格を入力してください：\"))\n",
    "priceWithTax = round(price * 1.1)\n",
    "shippingFee = 0\n",
    "\n",
    "if priceWithTax >= 2000:\n",
    "    print(\"送料は無料です\")\n",
    "else:\n",
    "    print(\"送料として350円かかります\")\n",
    "    shippingFee = 350\n",
    "print(f\"送料込みの価格は{priceWithTax+shippingFee}円です。\")\n"
   ]
  },
  {
   "cell_type": "code",
   "execution_count": null,
   "id": "9b8fba9c",
   "metadata": {},
   "outputs": [],
   "source": []
  }
 ],
 "metadata": {
  "kernelspec": {
   "display_name": ".venv",
   "language": "python",
   "name": "python3"
  },
  "language_info": {
   "codemirror_mode": {
    "name": "ipython",
    "version": 3
   },
   "file_extension": ".py",
   "mimetype": "text/x-python",
   "name": "python",
   "nbconvert_exporter": "python",
   "pygments_lexer": "ipython3",
   "version": "3.12.10"
  }
 },
 "nbformat": 4,
 "nbformat_minor": 5
}
